{
  "nbformat": 4,
  "nbformat_minor": 0,
  "metadata": {
    "colab": {
      "name": "MusicDataProject.ipynb",
      "provenance": [],
      "authorship_tag": "ABX9TyNBPwP6SUxuVxymtYBiTuLK",
      "include_colab_link": true
    },
    "kernelspec": {
      "name": "python3",
      "display_name": "Python 3"
    },
    "language_info": {
      "name": "python"
    }
  },
  "cells": [
    {
      "cell_type": "markdown",
      "metadata": {
        "id": "view-in-github",
        "colab_type": "text"
      },
      "source": [
        "<a href=\"https://colab.research.google.com/github/kcirerick/CryptoProjects/blob/main/MusicDataProject.ipynb\" target=\"_parent\"><img src=\"https://colab.research.google.com/assets/colab-badge.svg\" alt=\"Open In Colab\"/></a>"
      ]
    },
    {
      "cell_type": "markdown",
      "source": [
        "This script is intended to help guide you through downloading your data from \"a well know music-streaming app whose name I cannot use for legal purposes\". and performing some exploratory data analysis to better understand your music preferences. [Here](https://towardsdatascience.com/get-your-spotify-streaming-history-with-python-d5a208bbcbd3#:~:text=Getting%20the%20data,but%20it's%20usually%20much%20faster.) is the guide I used to download my dataset before beginning my EDA."
      ],
      "metadata": {
        "id": "259LdZq1gt_Q"
      }
    },
    {
      "cell_type": "markdown",
      "source": [
        "Let's begin by installing some dependencies."
      ],
      "metadata": {
        "id": "n3NQb36ieqtW"
      }
    },
    {
      "cell_type": "code",
      "execution_count": null,
      "metadata": {
        "id": "czbUw1dReRXx"
      },
      "outputs": [],
      "source": [
        "!pip install spotipy\n",
        "!pip install requests\n",
        "!pip install pandas"
      ]
    },
    {
      "cell_type": "markdown",
      "source": [
        "### Note: At this point, if you haven't already, you should download your data by going to your privacy settings in your account from this very popular music streaming app (the green one) and using the Download My Data tool. It may take them up to 30-days to email you your data. "
      ],
      "metadata": {
        "id": "Dx3lt3UNgb2v"
      }
    },
    {
      "cell_type": "markdown",
      "source": [
        "The folder they send you will contain tons of files, but we'll be focusing on StreamingHistory.json which contains metadata about each of the songs you've listened to in recent history. To analyze your extended history up through the beginning of time by emailing their privacy team."
      ],
      "metadata": {
        "id": "udYegbopg-fJ"
      }
    },
    {
      "cell_type": "code",
      "source": [
        "import ast\n",
        "from typing import List\n",
        "from os import listdir\n",
        "\n",
        "# get_streamings() takes a path to the StreamingHistory.json file and turns the \n",
        "# json objects into python dictionaries. \n",
        "def get_streamings(path: str = 'MyData') -> List[dict]:\n",
        "    \n",
        "    files = ['MyData/' + x for x in listdir(path)\n",
        "             if x.split('.')[0][:-1] == 'StreamingHistory']\n",
        "    \n",
        "    all_streamings = []\n",
        "    \n",
        "    for file in files: \n",
        "        with open(file, 'r', encoding='UTF-8') as f:\n",
        "            new_streamings = ast.literal_eval(f.read())\n",
        "            all_streamings += [streaming for streaming \n",
        "                               in new_streamings]\n",
        "    return all_streamings"
      ],
      "metadata": {
        "id": "Txo100uUg8Jj"
      },
      "execution_count": null,
      "outputs": []
    },
    {
      "cell_type": "markdown",
      "source": [
        "These Json objects will only contain the name, artist, time of stream, and length of stream, but will not contain any data about the song's actual features. To request this data (as well as other data about tracks, artists, and albums), we will need to use the Spotify API. "
      ],
      "metadata": {
        "id": "4EDS82f9h9Yn"
      }
    },
    {
      "cell_type": "code",
      "source": [
        ""
      ],
      "metadata": {
        "id": "w8w8uB-9i6TC"
      },
      "execution_count": null,
      "outputs": []
    }
  ]
}