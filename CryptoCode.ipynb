{
  "nbformat": 4,
  "nbformat_minor": 0,
  "metadata": {
    "colab": {
      "name": "CryptoCode",
      "provenance": [],
      "authorship_tag": "ABX9TyN6XhxynGFH+dkSy56CGZ8e",
      "include_colab_link": true
    },
    "kernelspec": {
      "name": "python3",
      "display_name": "Python 3"
    },
    "language_info": {
      "name": "python"
    }
  },
  "cells": [
    {
      "cell_type": "markdown",
      "metadata": {
        "id": "view-in-github",
        "colab_type": "text"
      },
      "source": [
        "<a href=\"https://colab.research.google.com/github/kcirerick/CryptoProjects/blob/main/CryptoCode.ipynb\" target=\"_parent\"><img src=\"https://colab.research.google.com/assets/colab-badge.svg\" alt=\"Open In Colab\"/></a>"
      ]
    },
    {
      "cell_type": "markdown",
      "source": [
        "In this notebook, I will be exploring my first crypto program and exploring how to use github with Colab, mastering a clean github workflow, and perhaps even experimenting with Google Copilot."
      ],
      "metadata": {
        "id": "jjih9bywkFua"
      }
    },
    {
      "cell_type": "code",
      "execution_count": null,
      "metadata": {
        "id": "E0_GzEcnjA7H"
      },
      "outputs": [],
      "source": [
        ""
      ]
    }
  ]
}