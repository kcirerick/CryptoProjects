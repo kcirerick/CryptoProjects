{
  "nbformat": 4,
  "nbformat_minor": 0,
  "metadata": {
    "colab": {
      "name": "CryptoCode",
      "provenance": [],
      "authorship_tag": "ABX9TyNpBKLsvcT5rd6YMTxs5SOT",
      "include_colab_link": true
    },
    "kernelspec": {
      "name": "python3",
      "display_name": "Python 3"
    },
    "language_info": {
      "name": "python"
    }
  },
  "cells": [
    {
      "cell_type": "markdown",
      "metadata": {
        "id": "view-in-github",
        "colab_type": "text"
      },
      "source": [
        "<a href=\"https://colab.research.google.com/github/kcirerick/CryptoProjects/blob/main/CryptoCode.ipynb\" target=\"_parent\"><img src=\"https://colab.research.google.com/assets/colab-badge.svg\" alt=\"Open In Colab\"/></a>"
      ]
    },
    {
      "cell_type": "markdown",
      "source": [
        "In this notebook, I will be exploring my first crypto program and exploring how to use github with Colab, mastering a clean github workflow, and perhaps even experimenting with Google Copilot, all while learning to create DApps.\n",
        "\n",
        "\n",
        "Here, I begin by unzipping the project starter files and installing the requirements. "
      ],
      "metadata": {
        "id": "jjih9bywkFua"
      }
    },
    {
      "cell_type": "code",
      "source": [
        "!tar -xvf /content/proj1.tar.gz"
      ],
      "metadata": {
        "id": "wnkSJu4O6cpR"
      },
      "execution_count": null,
      "outputs": []
    },
    {
      "cell_type": "code",
      "execution_count": null,
      "metadata": {
        "id": "E0_GzEcnjA7H"
      },
      "outputs": [],
      "source": [
        "!pip3 install -r /content/StarterCode/requirements.txt"
      ]
    },
    {
      "cell_type": "markdown",
      "source": [
        "The code in Starter/Code/lib/keygen.py randomly generates privateKey/address pairs.  We will use this to creat pK/Address pairs for myself, Alice, and Bob."
      ],
      "metadata": {
        "id": "gYe7aQ6Erzro"
      }
    },
    {
      "cell_type": "code",
      "source": [
        "!python3 StarterCode/lib/keygen.py"
      ],
      "metadata": {
        "id": "3Fh8o8UYCmNF"
      },
      "execution_count": null,
      "outputs": []
    },
    {
      "cell_type": "code",
      "source": [
        "my_private_key = 'cRP6wwjn8UPXsBz2rYRN2R8En1cXtaqyxWWWSXrtLiRsirdPUjtH'\n",
        "my_address = 'n3eP4byjAEmusyRJdWQwXV8mhAFNfgeTKp'\n",
        "alice_secret_key_BTC = 'cQzEvohV3me8edUcVwZx7Lx6mxXyU6tbDEF59FtE6SQUGy3jqszv'\n",
        "alice_address = 'n2iyxzXSUkkxBBW21frpX3kWXE2qm9sQeq'\n",
        "bob_secret_key_BTC = 'cN9LwFGs6wHctSc3tUCBYdFd2PAMGfs9h7qrkzj4r1KaUsaf1P9g'\n",
        "bob_address = 'mgytKaY5ubVKJ7pBUwfZeQPL26W3RxWRQd'"
      ],
      "metadata": {
        "id": "pAhtDh2c7Vs0"
      },
      "execution_count": 4,
      "outputs": []
    },
    {
      "cell_type": "markdown",
      "source": [
        "Next, I sent some test BTC to my_address and alice_address through the BTC testnet faucet [here](https://testnet-faucet.mempool.co/) and also created an API token for myself at [BlockCypher](https://live.blockcypher.com'). "
      ],
      "metadata": {
        "id": "dTVcQQT0sKwD"
      }
    },
    {
      "cell_type": "code",
      "source": [
        "txID1 = '2695a56a99c93b2654d0646b1993dbcb664a66353f634a5d0e5a077b5793be82'\n",
        "# Address: n3eP4byjAEmusyRJdWQwXV8mhAFNfgeTKp\n",
        "# Amount: 0.001'\n",
        "\n",
        "txID2 = '01efbdee6d9511475792dbf909825b6b19a5bb83233673d58fa9a9569b0375b6'\n",
        "# Address: n2iyxzXSUkkxBBW21frpX3kWXE2qm9sQeq\n",
        "# Amount: 0.001\n",
        "\n",
        "block_cypher_API_tkn = '2dd47714046e4adbaf41d98f985af460'"
      ],
      "metadata": {
        "id": "5cZx6H0NsKIp"
      },
      "execution_count": null,
      "outputs": []
    },
    {
      "cell_type": "code",
      "source": [
        "!curl -X POST 'https://api.blockcypher.com/v1/bcy/test/addrs?token=2dd47714046e4adbaf41d98f985af460'\n",
        "\n",
        "#   \"private\": \"71ccc1128adbdf68e3546b1227d0c4ff0a3473184dd44b63e528573f995caba3\",\n",
        "#   \"public\": \"029aea0b56af974ef1f493da9df1e40fe814ccdd5e992a1bd1842ddc0b9c26adf2\",\n",
        "#   \"address\": \"CGLkJZ4vvdxajjxd9Abkvx2w69zkRSBeQk\",\n",
        "#   \"wif\": \"Bs9F2tRUUZpiBPoA6Ukrf4t1nQb2zxLEYTx8zPVyeZq474RifdLg\""
      ],
      "metadata": {
        "colab": {
          "base_uri": "https://localhost:8080/"
        },
        "id": "IhcYe4xGncLE",
        "outputId": "a28c422c-e526-494d-9d72-d29303630432"
      },
      "execution_count": 6,
      "outputs": [
        {
          "output_type": "stream",
          "name": "stdout",
          "text": [
            "{\n",
            "  \"private\": \"71ccc1128adbdf68e3546b1227d0c4ff0a3473184dd44b63e528573f995caba3\",\n",
            "  \"public\": \"029aea0b56af974ef1f493da9df1e40fe814ccdd5e992a1bd1842ddc0b9c26adf2\",\n",
            "  \"address\": \"CGLkJZ4vvdxajjxd9Abkvx2w69zkRSBeQk\",\n",
            "  \"wif\": \"Bs9F2tRUUZpiBPoA6Ukrf4t1nQb2zxLEYTx8zPVyeZq474RifdLg\"\n",
            "}"
          ]
        }
      ]
    },
    {
      "cell_type": "code",
      "source": [
        "!curl -d '{\"address\": \"mgytKaY5ubVKJ7pBUwfZeQPL26W3RxWRQd\", \"amount\": 1000000}' https://api.blockcypher.com/v1/bcy/test/faucet?token=2dd47714046e4adbaf41d98f985af460"
      ],
      "metadata": {
        "colab": {
          "base_uri": "https://localhost:8080/"
        },
        "id": "No_WXqbGoSNU",
        "outputId": "666825a6-c7a4-43f8-843b-f3754745cae1"
      },
      "execution_count": 9,
      "outputs": [
        {
          "output_type": "stream",
          "name": "stdout",
          "text": [
            "{\"error\": \"Address mgytKaY5ubVKJ7pBUwfZeQPL26W3RxWRQd incompatible with current block chain: BCY.test\"}{\"error\": \"Invalid address\"}"
          ]
        }
      ]
    },
    {
      "cell_type": "code",
      "source": [
        "!python3 StarterCode/lib/split_test_coins.py"
      ],
      "metadata": {
        "colab": {
          "base_uri": "https://localhost:8080/"
        },
        "id": "ChQAhwWnCzku",
        "outputId": "12c39e09-2f07-4294-eb94-6c77df2706da"
      },
      "execution_count": null,
      "outputs": [
        {
          "output_type": "stream",
          "name": "stdout",
          "text": [
            "Traceback (most recent call last):\n",
            "  File \"StarterCode/lib/split_test_coins.py\", line 8, in <module>\n",
            "    from config import (my_private_key, my_public_key, my_address,\n",
            "  File \"/content/StarterCode/lib/config.py\", line 24, in <module>\n",
            "    'XXXXXXXXXXXXXXXXXXXXXXXXXXXXXXXXXXXXXXXXXXXXXXXXXXXX')\n",
            "  File \"/usr/local/lib/python3.7/dist-packages/bitcoin/base58.py\", line 109, in __new__\n",
            "    raise Base58ChecksumError('Checksum mismatch: expected %r, calculated %r' % (check0, check1))\n",
            "bitcoin.base58.Base58ChecksumError: Checksum mismatch: expected b'k\\xca\\x1a\\xf2', calculated b'({\\xbbF'\n"
          ]
        }
      ]
    }
  ]
}